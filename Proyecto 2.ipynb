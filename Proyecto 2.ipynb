{
 "cells": [
  {
   "cell_type": "markdown",
   "id": "bcc5096a",
   "metadata": {},
   "source": [
    "# Proyecto 2"
   ]
  },
  {
   "cell_type": "code",
   "execution_count": 28,
   "id": "260500e0",
   "metadata": {},
   "outputs": [],
   "source": [
    "import pandas as pd\n",
    "import numpy as np\n",
    "\n",
    "import matplotlib.pyplot as plt\n",
    "import seaborn as sns\n",
    "\n",
    "from sklearn.model_selection import train_test_split\n",
    "from sklearn.metrics import classification_report, roc_auc_score, ConfusionMatrixDisplay\n",
    "\n",
    "import tensorflow as tf\n",
    "from tensorflow.keras.models import Sequential\n",
    "from tensorflow.keras.layers import Dense\n",
    "\n",
    "from keras.regularizers import l2\n",
    "from keras.callbacks import ModelCheckpoint\n",
    "import xgboost as xgb"
   ]
  },
  {
   "cell_type": "markdown",
   "id": "96045b66",
   "metadata": {},
   "source": [
    "## Exploracion"
   ]
  },
  {
   "cell_type": "code",
   "execution_count": 2,
   "id": "ca5d7b67",
   "metadata": {},
   "outputs": [
    {
     "data": {
      "text/html": [
       "<div>\n",
       "<style scoped>\n",
       "    .dataframe tbody tr th:only-of-type {\n",
       "        vertical-align: middle;\n",
       "    }\n",
       "\n",
       "    .dataframe tbody tr th {\n",
       "        vertical-align: top;\n",
       "    }\n",
       "\n",
       "    .dataframe thead th {\n",
       "        text-align: right;\n",
       "    }\n",
       "</style>\n",
       "<table border=\"1\" class=\"dataframe\">\n",
       "  <thead>\n",
       "    <tr style=\"text-align: right;\">\n",
       "      <th></th>\n",
       "      <th>age</th>\n",
       "      <th>height(cm)</th>\n",
       "      <th>weight(kg)</th>\n",
       "      <th>waist(cm)</th>\n",
       "      <th>eyesight(left)</th>\n",
       "      <th>eyesight(right)</th>\n",
       "      <th>hearing(left)</th>\n",
       "      <th>hearing(right)</th>\n",
       "      <th>systolic</th>\n",
       "      <th>relaxation</th>\n",
       "      <th>...</th>\n",
       "      <th>HDL</th>\n",
       "      <th>LDL</th>\n",
       "      <th>hemoglobin</th>\n",
       "      <th>Urine protein</th>\n",
       "      <th>serum creatinine</th>\n",
       "      <th>AST</th>\n",
       "      <th>ALT</th>\n",
       "      <th>Gtp</th>\n",
       "      <th>dental caries</th>\n",
       "      <th>smoking</th>\n",
       "    </tr>\n",
       "  </thead>\n",
       "  <tbody>\n",
       "    <tr>\n",
       "      <th>0</th>\n",
       "      <td>35</td>\n",
       "      <td>170</td>\n",
       "      <td>85</td>\n",
       "      <td>97.0</td>\n",
       "      <td>0.9</td>\n",
       "      <td>0.9</td>\n",
       "      <td>1</td>\n",
       "      <td>1</td>\n",
       "      <td>118</td>\n",
       "      <td>78</td>\n",
       "      <td>...</td>\n",
       "      <td>70</td>\n",
       "      <td>142</td>\n",
       "      <td>19.8</td>\n",
       "      <td>1</td>\n",
       "      <td>1.0</td>\n",
       "      <td>61</td>\n",
       "      <td>115</td>\n",
       "      <td>125</td>\n",
       "      <td>1</td>\n",
       "      <td>1</td>\n",
       "    </tr>\n",
       "    <tr>\n",
       "      <th>1</th>\n",
       "      <td>20</td>\n",
       "      <td>175</td>\n",
       "      <td>110</td>\n",
       "      <td>110.0</td>\n",
       "      <td>0.7</td>\n",
       "      <td>0.9</td>\n",
       "      <td>1</td>\n",
       "      <td>1</td>\n",
       "      <td>119</td>\n",
       "      <td>79</td>\n",
       "      <td>...</td>\n",
       "      <td>71</td>\n",
       "      <td>114</td>\n",
       "      <td>15.9</td>\n",
       "      <td>1</td>\n",
       "      <td>1.1</td>\n",
       "      <td>19</td>\n",
       "      <td>25</td>\n",
       "      <td>30</td>\n",
       "      <td>1</td>\n",
       "      <td>0</td>\n",
       "    </tr>\n",
       "    <tr>\n",
       "      <th>2</th>\n",
       "      <td>45</td>\n",
       "      <td>155</td>\n",
       "      <td>65</td>\n",
       "      <td>86.0</td>\n",
       "      <td>0.9</td>\n",
       "      <td>0.9</td>\n",
       "      <td>1</td>\n",
       "      <td>1</td>\n",
       "      <td>110</td>\n",
       "      <td>80</td>\n",
       "      <td>...</td>\n",
       "      <td>57</td>\n",
       "      <td>112</td>\n",
       "      <td>13.7</td>\n",
       "      <td>3</td>\n",
       "      <td>0.6</td>\n",
       "      <td>1090</td>\n",
       "      <td>1400</td>\n",
       "      <td>276</td>\n",
       "      <td>0</td>\n",
       "      <td>0</td>\n",
       "    </tr>\n",
       "    <tr>\n",
       "      <th>3</th>\n",
       "      <td>45</td>\n",
       "      <td>165</td>\n",
       "      <td>80</td>\n",
       "      <td>94.0</td>\n",
       "      <td>0.8</td>\n",
       "      <td>0.7</td>\n",
       "      <td>1</td>\n",
       "      <td>1</td>\n",
       "      <td>158</td>\n",
       "      <td>88</td>\n",
       "      <td>...</td>\n",
       "      <td>46</td>\n",
       "      <td>91</td>\n",
       "      <td>16.9</td>\n",
       "      <td>1</td>\n",
       "      <td>0.9</td>\n",
       "      <td>32</td>\n",
       "      <td>36</td>\n",
       "      <td>36</td>\n",
       "      <td>0</td>\n",
       "      <td>0</td>\n",
       "    </tr>\n",
       "    <tr>\n",
       "      <th>4</th>\n",
       "      <td>20</td>\n",
       "      <td>165</td>\n",
       "      <td>60</td>\n",
       "      <td>81.0</td>\n",
       "      <td>1.5</td>\n",
       "      <td>0.1</td>\n",
       "      <td>1</td>\n",
       "      <td>1</td>\n",
       "      <td>109</td>\n",
       "      <td>64</td>\n",
       "      <td>...</td>\n",
       "      <td>47</td>\n",
       "      <td>92</td>\n",
       "      <td>14.9</td>\n",
       "      <td>1</td>\n",
       "      <td>1.2</td>\n",
       "      <td>26</td>\n",
       "      <td>28</td>\n",
       "      <td>15</td>\n",
       "      <td>0</td>\n",
       "      <td>0</td>\n",
       "    </tr>\n",
       "  </tbody>\n",
       "</table>\n",
       "<p>5 rows × 23 columns</p>\n",
       "</div>"
      ],
      "text/plain": [
       "   age  height(cm)  weight(kg)  waist(cm)  eyesight(left)  eyesight(right)  \\\n",
       "0   35         170          85       97.0             0.9              0.9   \n",
       "1   20         175         110      110.0             0.7              0.9   \n",
       "2   45         155          65       86.0             0.9              0.9   \n",
       "3   45         165          80       94.0             0.8              0.7   \n",
       "4   20         165          60       81.0             1.5              0.1   \n",
       "\n",
       "   hearing(left)  hearing(right)  systolic  relaxation  ...  HDL  LDL  \\\n",
       "0              1               1       118          78  ...   70  142   \n",
       "1              1               1       119          79  ...   71  114   \n",
       "2              1               1       110          80  ...   57  112   \n",
       "3              1               1       158          88  ...   46   91   \n",
       "4              1               1       109          64  ...   47   92   \n",
       "\n",
       "   hemoglobin  Urine protein  serum creatinine   AST   ALT  Gtp  \\\n",
       "0        19.8              1               1.0    61   115  125   \n",
       "1        15.9              1               1.1    19    25   30   \n",
       "2        13.7              3               0.6  1090  1400  276   \n",
       "3        16.9              1               0.9    32    36   36   \n",
       "4        14.9              1               1.2    26    28   15   \n",
       "\n",
       "   dental caries  smoking  \n",
       "0              1        1  \n",
       "1              1        0  \n",
       "2              0        0  \n",
       "3              0        0  \n",
       "4              0        0  \n",
       "\n",
       "[5 rows x 23 columns]"
      ]
     },
     "execution_count": 2,
     "metadata": {},
     "output_type": "execute_result"
    }
   ],
   "source": [
    "df = pd.read_csv(\"train_dataset.csv\")\n",
    "df.head()"
   ]
  },
  {
   "cell_type": "code",
   "execution_count": 3,
   "id": "738298d6",
   "metadata": {},
   "outputs": [
    {
     "name": "stdout",
     "output_type": "stream",
     "text": [
      "<class 'pandas.core.frame.DataFrame'>\n",
      "RangeIndex: 38984 entries, 0 to 38983\n",
      "Data columns (total 23 columns):\n",
      " #   Column               Non-Null Count  Dtype  \n",
      "---  ------               --------------  -----  \n",
      " 0   age                  38984 non-null  int64  \n",
      " 1   height(cm)           38984 non-null  int64  \n",
      " 2   weight(kg)           38984 non-null  int64  \n",
      " 3   waist(cm)            38984 non-null  float64\n",
      " 4   eyesight(left)       38984 non-null  float64\n",
      " 5   eyesight(right)      38984 non-null  float64\n",
      " 6   hearing(left)        38984 non-null  int64  \n",
      " 7   hearing(right)       38984 non-null  int64  \n",
      " 8   systolic             38984 non-null  int64  \n",
      " 9   relaxation           38984 non-null  int64  \n",
      " 10  fasting blood sugar  38984 non-null  int64  \n",
      " 11  Cholesterol          38984 non-null  int64  \n",
      " 12  triglyceride         38984 non-null  int64  \n",
      " 13  HDL                  38984 non-null  int64  \n",
      " 14  LDL                  38984 non-null  int64  \n",
      " 15  hemoglobin           38984 non-null  float64\n",
      " 16  Urine protein        38984 non-null  int64  \n",
      " 17  serum creatinine     38984 non-null  float64\n",
      " 18  AST                  38984 non-null  int64  \n",
      " 19  ALT                  38984 non-null  int64  \n",
      " 20  Gtp                  38984 non-null  int64  \n",
      " 21  dental caries        38984 non-null  int64  \n",
      " 22  smoking              38984 non-null  int64  \n",
      "dtypes: float64(5), int64(18)\n",
      "memory usage: 6.8 MB\n"
     ]
    }
   ],
   "source": [
    "df.info()"
   ]
  },
  {
   "cell_type": "code",
   "execution_count": 65,
   "id": "cbc815d2",
   "metadata": {},
   "outputs": [
    {
     "data": {
      "text/plain": [
       "0    24666\n",
       "1    14318\n",
       "Name: smoking, dtype: int64"
      ]
     },
     "execution_count": 65,
     "metadata": {},
     "output_type": "execute_result"
    }
   ],
   "source": [
    "df.smoking.value_counts()"
   ]
  },
  {
   "cell_type": "markdown",
   "id": "919f31a6",
   "metadata": {},
   "source": [
    "## Preparacion"
   ]
  },
  {
   "cell_type": "code",
   "execution_count": 11,
   "id": "304a57f4",
   "metadata": {},
   "outputs": [],
   "source": [
    "X = df.drop('smoking', axis=1)\n",
    "y = df['smoking']"
   ]
  },
  {
   "cell_type": "code",
   "execution_count": 14,
   "id": "35911951",
   "metadata": {},
   "outputs": [],
   "source": [
    "X_train, X_val, y_train, y_val = train_test_split(X, y, test_size=0.2, random_state=42)"
   ]
  },
  {
   "cell_type": "markdown",
   "id": "8ed7b3b6",
   "metadata": {},
   "source": [
    "## Modelo"
   ]
  },
  {
   "cell_type": "code",
   "execution_count": 27,
   "id": "350f3082",
   "metadata": {},
   "outputs": [
    {
     "name": "stdout",
     "output_type": "stream",
     "text": [
      "Epoch 1/100\n",
      "244/244 [==============================] - 3s 5ms/step - loss: 2.8908 - aucroc: 0.5799 - val_loss: 0.9657 - val_aucroc: 0.6798\n",
      "Epoch 2/100\n",
      "244/244 [==============================] - 1s 3ms/step - loss: 0.7720 - aucroc: 0.6891 - val_loss: 0.6756 - val_aucroc: 0.7130\n",
      "Epoch 3/100\n",
      "244/244 [==============================] - 1s 3ms/step - loss: 0.6419 - aucroc: 0.7230 - val_loss: 0.6129 - val_aucroc: 0.7277\n",
      "Epoch 4/100\n",
      "244/244 [==============================] - 1s 5ms/step - loss: 0.6112 - aucroc: 0.7316 - val_loss: 0.6074 - val_aucroc: 0.7455\n",
      "Epoch 5/100\n",
      "244/244 [==============================] - 1s 4ms/step - loss: 0.5856 - aucroc: 0.7449 - val_loss: 0.5807 - val_aucroc: 0.7536\n",
      "Epoch 6/100\n",
      "244/244 [==============================] - 1s 4ms/step - loss: 0.5779 - aucroc: 0.7499 - val_loss: 0.5713 - val_aucroc: 0.7565\n",
      "Epoch 7/100\n",
      "244/244 [==============================] - 1s 3ms/step - loss: 0.5712 - aucroc: 0.7549 - val_loss: 0.5789 - val_aucroc: 0.7616\n",
      "Epoch 8/100\n",
      "244/244 [==============================] - 1s 3ms/step - loss: 0.5659 - aucroc: 0.7600 - val_loss: 0.5788 - val_aucroc: 0.7621\n",
      "Epoch 9/100\n",
      "244/244 [==============================] - 1s 3ms/step - loss: 0.5636 - aucroc: 0.7606 - val_loss: 0.5600 - val_aucroc: 0.7668\n",
      "Epoch 10/100\n",
      "244/244 [==============================] - 1s 3ms/step - loss: 0.5671 - aucroc: 0.7601 - val_loss: 0.5612 - val_aucroc: 0.7729\n",
      "Epoch 11/100\n",
      "244/244 [==============================] - 1s 3ms/step - loss: 0.5628 - aucroc: 0.7631 - val_loss: 0.5852 - val_aucroc: 0.7706\n",
      "Epoch 12/100\n",
      "244/244 [==============================] - 1s 3ms/step - loss: 0.5561 - aucroc: 0.7696 - val_loss: 0.5622 - val_aucroc: 0.7736\n",
      "Epoch 13/100\n",
      "244/244 [==============================] - 1s 3ms/step - loss: 0.5639 - aucroc: 0.7614 - val_loss: 0.5756 - val_aucroc: 0.7720\n",
      "Epoch 14/100\n",
      "244/244 [==============================] - 1s 3ms/step - loss: 0.5621 - aucroc: 0.7632 - val_loss: 0.5484 - val_aucroc: 0.7776\n",
      "Epoch 15/100\n",
      "244/244 [==============================] - 1s 3ms/step - loss: 0.5539 - aucroc: 0.7714 - val_loss: 0.5488 - val_aucroc: 0.7795\n",
      "Epoch 16/100\n",
      "244/244 [==============================] - 1s 3ms/step - loss: 0.5620 - aucroc: 0.7641 - val_loss: 0.5536 - val_aucroc: 0.7750\n",
      "Epoch 17/100\n",
      "244/244 [==============================] - 1s 3ms/step - loss: 0.5553 - aucroc: 0.7698 - val_loss: 0.5457 - val_aucroc: 0.7814\n",
      "Epoch 18/100\n",
      "244/244 [==============================] - 1s 4ms/step - loss: 0.5466 - aucroc: 0.7792 - val_loss: 0.5460 - val_aucroc: 0.7824\n",
      "Epoch 19/100\n",
      "244/244 [==============================] - 1s 4ms/step - loss: 0.5548 - aucroc: 0.7705 - val_loss: 0.5464 - val_aucroc: 0.7830\n",
      "Epoch 20/100\n",
      "244/244 [==============================] - 1s 4ms/step - loss: 0.5480 - aucroc: 0.7781 - val_loss: 0.5445 - val_aucroc: 0.7830\n",
      "Epoch 21/100\n",
      "244/244 [==============================] - 1s 3ms/step - loss: 0.5472 - aucroc: 0.7791 - val_loss: 0.5465 - val_aucroc: 0.7821\n",
      "Epoch 22/100\n",
      "244/244 [==============================] - 1s 3ms/step - loss: 0.5613 - aucroc: 0.7653 - val_loss: 0.5447 - val_aucroc: 0.7842\n",
      "Epoch 23/100\n",
      "244/244 [==============================] - 1s 3ms/step - loss: 0.5480 - aucroc: 0.7787 - val_loss: 0.5428 - val_aucroc: 0.7853\n",
      "Epoch 24/100\n",
      "244/244 [==============================] - 1s 3ms/step - loss: 0.5468 - aucroc: 0.7792 - val_loss: 0.5607 - val_aucroc: 0.7872\n",
      "Epoch 25/100\n",
      "244/244 [==============================] - 1s 3ms/step - loss: 0.5428 - aucroc: 0.7828 - val_loss: 0.5366 - val_aucroc: 0.7872\n",
      "Epoch 26/100\n",
      "244/244 [==============================] - 1s 3ms/step - loss: 0.5394 - aucroc: 0.7858 - val_loss: 0.5414 - val_aucroc: 0.7881\n",
      "Epoch 27/100\n",
      "244/244 [==============================] - 1s 3ms/step - loss: 0.5498 - aucroc: 0.7768 - val_loss: 0.5494 - val_aucroc: 0.7897\n",
      "Epoch 28/100\n",
      "244/244 [==============================] - 1s 3ms/step - loss: 0.5413 - aucroc: 0.7829 - val_loss: 0.5335 - val_aucroc: 0.7910\n",
      "Epoch 29/100\n",
      "244/244 [==============================] - 1s 3ms/step - loss: 0.5389 - aucroc: 0.7848 - val_loss: 0.5925 - val_aucroc: 0.7918\n",
      "Epoch 30/100\n",
      "244/244 [==============================] - 1s 3ms/step - loss: 0.5372 - aucroc: 0.7870 - val_loss: 0.5825 - val_aucroc: 0.7895\n",
      "Epoch 31/100\n",
      "244/244 [==============================] - 1s 3ms/step - loss: 0.5451 - aucroc: 0.7801 - val_loss: 0.5555 - val_aucroc: 0.7900\n",
      "Epoch 32/100\n",
      "244/244 [==============================] - 1s 3ms/step - loss: 0.5357 - aucroc: 0.7879 - val_loss: 0.5415 - val_aucroc: 0.7949\n",
      "Epoch 33/100\n",
      "244/244 [==============================] - 1s 4ms/step - loss: 0.5355 - aucroc: 0.7883 - val_loss: 0.5279 - val_aucroc: 0.7936\n",
      "Epoch 34/100\n",
      "244/244 [==============================] - 1s 3ms/step - loss: 0.5324 - aucroc: 0.7910 - val_loss: 0.5304 - val_aucroc: 0.7933\n",
      "Epoch 35/100\n",
      "244/244 [==============================] - 1s 3ms/step - loss: 0.5345 - aucroc: 0.7886 - val_loss: 0.5542 - val_aucroc: 0.7953\n",
      "Epoch 36/100\n",
      "244/244 [==============================] - 1s 3ms/step - loss: 0.5294 - aucroc: 0.7923 - val_loss: 0.5289 - val_aucroc: 0.7909\n",
      "Epoch 37/100\n",
      "244/244 [==============================] - 1s 3ms/step - loss: 0.5352 - aucroc: 0.7880 - val_loss: 0.5312 - val_aucroc: 0.7925\n",
      "Epoch 38/100\n",
      "244/244 [==============================] - 1s 4ms/step - loss: 0.5337 - aucroc: 0.7906 - val_loss: 0.5394 - val_aucroc: 0.7901\n",
      "Epoch 39/100\n",
      "244/244 [==============================] - 1s 3ms/step - loss: 0.5326 - aucroc: 0.7894 - val_loss: 0.5372 - val_aucroc: 0.7951\n",
      "Epoch 40/100\n",
      "244/244 [==============================] - 1s 3ms/step - loss: 0.5313 - aucroc: 0.7911 - val_loss: 0.5291 - val_aucroc: 0.7948\n",
      "Epoch 41/100\n",
      "244/244 [==============================] - 1s 3ms/step - loss: 0.5311 - aucroc: 0.7906 - val_loss: 0.5356 - val_aucroc: 0.7933\n",
      "Epoch 42/100\n",
      "244/244 [==============================] - 1s 3ms/step - loss: 0.5304 - aucroc: 0.7918 - val_loss: 0.5774 - val_aucroc: 0.7943\n",
      "Epoch 43/100\n",
      "244/244 [==============================] - 1s 3ms/step - loss: 0.5270 - aucroc: 0.7939 - val_loss: 0.5410 - val_aucroc: 0.7950\n",
      "Epoch 44/100\n",
      "244/244 [==============================] - 1s 3ms/step - loss: 0.5296 - aucroc: 0.7916 - val_loss: 0.5277 - val_aucroc: 0.7973\n",
      "Epoch 45/100\n",
      "244/244 [==============================] - 1s 3ms/step - loss: 0.5279 - aucroc: 0.7925 - val_loss: 0.5270 - val_aucroc: 0.7975\n",
      "Epoch 46/100\n",
      "244/244 [==============================] - 1s 3ms/step - loss: 0.5281 - aucroc: 0.7927 - val_loss: 0.5269 - val_aucroc: 0.7941\n",
      "Epoch 47/100\n",
      "244/244 [==============================] - 1s 3ms/step - loss: 0.5260 - aucroc: 0.7943 - val_loss: 0.5204 - val_aucroc: 0.7972\n",
      "Epoch 48/100\n",
      "244/244 [==============================] - 1s 3ms/step - loss: 0.5265 - aucroc: 0.7937 - val_loss: 0.5236 - val_aucroc: 0.7984\n",
      "Epoch 49/100\n",
      "244/244 [==============================] - 1s 3ms/step - loss: 0.5285 - aucroc: 0.7925 - val_loss: 0.5304 - val_aucroc: 0.7962\n",
      "Epoch 50/100\n",
      "244/244 [==============================] - 1s 3ms/step - loss: 0.5245 - aucroc: 0.7952 - val_loss: 0.5316 - val_aucroc: 0.7982\n",
      "Epoch 51/100\n",
      "244/244 [==============================] - 1s 3ms/step - loss: 0.5249 - aucroc: 0.7948 - val_loss: 0.5230 - val_aucroc: 0.7972\n",
      "Epoch 52/100\n",
      "244/244 [==============================] - 1s 3ms/step - loss: 0.5259 - aucroc: 0.7938 - val_loss: 0.5365 - val_aucroc: 0.7986\n",
      "Epoch 53/100\n",
      "244/244 [==============================] - 1s 3ms/step - loss: 0.5298 - aucroc: 0.7905 - val_loss: 0.5191 - val_aucroc: 0.7965\n",
      "Epoch 54/100\n",
      "244/244 [==============================] - 1s 3ms/step - loss: 0.5249 - aucroc: 0.7946 - val_loss: 0.5234 - val_aucroc: 0.7972\n",
      "Epoch 55/100\n",
      "244/244 [==============================] - 1s 4ms/step - loss: 0.5247 - aucroc: 0.7938 - val_loss: 0.5572 - val_aucroc: 0.7975\n",
      "Epoch 56/100\n",
      "244/244 [==============================] - 1s 3ms/step - loss: 0.5232 - aucroc: 0.7955 - val_loss: 0.5261 - val_aucroc: 0.7977\n",
      "Epoch 57/100\n",
      "244/244 [==============================] - 1s 3ms/step - loss: 0.5229 - aucroc: 0.7964 - val_loss: 0.5188 - val_aucroc: 0.7965\n",
      "Epoch 58/100\n",
      "244/244 [==============================] - 1s 3ms/step - loss: 0.5236 - aucroc: 0.7947 - val_loss: 0.5510 - val_aucroc: 0.7985\n",
      "Epoch 59/100\n",
      "244/244 [==============================] - 1s 3ms/step - loss: 0.5235 - aucroc: 0.7956 - val_loss: 0.5198 - val_aucroc: 0.7984\n",
      "Epoch 60/100\n",
      "244/244 [==============================] - 1s 3ms/step - loss: 0.5238 - aucroc: 0.7947 - val_loss: 0.5209 - val_aucroc: 0.7973\n",
      "Epoch 61/100\n",
      "244/244 [==============================] - 1s 3ms/step - loss: 0.5178 - aucroc: 0.7996 - val_loss: 0.5219 - val_aucroc: 0.7939\n",
      "Epoch 62/100\n",
      "244/244 [==============================] - 1s 3ms/step - loss: 0.5201 - aucroc: 0.7978 - val_loss: 0.5185 - val_aucroc: 0.7971\n",
      "Epoch 63/100\n",
      "244/244 [==============================] - 1s 3ms/step - loss: 0.5195 - aucroc: 0.7986 - val_loss: 0.5304 - val_aucroc: 0.7911\n",
      "Epoch 64/100\n",
      "244/244 [==============================] - 1s 3ms/step - loss: 0.5193 - aucroc: 0.7979 - val_loss: 0.5255 - val_aucroc: 0.7973\n",
      "Epoch 65/100\n",
      "244/244 [==============================] - 1s 3ms/step - loss: 0.5162 - aucroc: 0.8010 - val_loss: 0.5170 - val_aucroc: 0.7961\n",
      "Epoch 66/100\n",
      "244/244 [==============================] - 1s 3ms/step - loss: 0.5193 - aucroc: 0.7979 - val_loss: 0.5319 - val_aucroc: 0.7958\n",
      "Epoch 67/100\n",
      "244/244 [==============================] - 1s 3ms/step - loss: 0.5209 - aucroc: 0.7969 - val_loss: 0.5277 - val_aucroc: 0.7990\n",
      "Epoch 68/100\n",
      "244/244 [==============================] - 1s 3ms/step - loss: 0.5175 - aucroc: 0.7991 - val_loss: 0.5195 - val_aucroc: 0.7979\n",
      "Epoch 69/100\n",
      "244/244 [==============================] - 1s 3ms/step - loss: 0.5191 - aucroc: 0.7977 - val_loss: 0.5488 - val_aucroc: 0.7966\n",
      "Epoch 70/100\n",
      "244/244 [==============================] - 1s 3ms/step - loss: 0.5150 - aucroc: 0.8015 - val_loss: 0.5193 - val_aucroc: 0.7989\n",
      "Epoch 71/100\n",
      "244/244 [==============================] - 1s 3ms/step - loss: 0.5168 - aucroc: 0.7999 - val_loss: 0.5350 - val_aucroc: 0.7973\n",
      "Epoch 72/100\n",
      "244/244 [==============================] - 1s 3ms/step - loss: 0.5152 - aucroc: 0.8003 - val_loss: 0.5176 - val_aucroc: 0.7975\n",
      "Epoch 73/100\n",
      "244/244 [==============================] - 1s 3ms/step - loss: 0.5171 - aucroc: 0.7995 - val_loss: 0.5165 - val_aucroc: 0.7992\n",
      "Epoch 74/100\n",
      "244/244 [==============================] - 1s 3ms/step - loss: 0.5149 - aucroc: 0.8019 - val_loss: 0.5179 - val_aucroc: 0.7993\n",
      "Epoch 75/100\n",
      "244/244 [==============================] - 1s 3ms/step - loss: 0.5167 - aucroc: 0.7997 - val_loss: 0.5172 - val_aucroc: 0.7983\n",
      "Epoch 76/100\n",
      "244/244 [==============================] - 1s 3ms/step - loss: 0.5146 - aucroc: 0.8014 - val_loss: 0.5157 - val_aucroc: 0.8003\n",
      "Epoch 77/100\n",
      "244/244 [==============================] - 1s 3ms/step - loss: 0.5135 - aucroc: 0.8026 - val_loss: 0.5304 - val_aucroc: 0.7947\n",
      "Epoch 78/100\n",
      "244/244 [==============================] - 1s 3ms/step - loss: 0.5135 - aucroc: 0.8016 - val_loss: 0.5220 - val_aucroc: 0.7992\n",
      "Epoch 79/100\n",
      "244/244 [==============================] - 1s 3ms/step - loss: 0.5151 - aucroc: 0.8011 - val_loss: 0.5205 - val_aucroc: 0.8013\n",
      "Epoch 80/100\n",
      "244/244 [==============================] - 1s 3ms/step - loss: 0.5122 - aucroc: 0.8037 - val_loss: 0.5123 - val_aucroc: 0.8003\n",
      "Epoch 81/100\n",
      "244/244 [==============================] - 1s 3ms/step - loss: 0.5145 - aucroc: 0.8010 - val_loss: 0.5195 - val_aucroc: 0.7974\n",
      "Epoch 82/100\n",
      "244/244 [==============================] - 1s 3ms/step - loss: 0.5126 - aucroc: 0.8028 - val_loss: 0.5131 - val_aucroc: 0.8000\n",
      "Epoch 83/100\n",
      "244/244 [==============================] - 1s 3ms/step - loss: 0.5141 - aucroc: 0.8020 - val_loss: 0.5131 - val_aucroc: 0.8000\n",
      "Epoch 84/100\n",
      "244/244 [==============================] - 1s 3ms/step - loss: 0.5118 - aucroc: 0.8032 - val_loss: 0.5138 - val_aucroc: 0.8002\n",
      "Epoch 85/100\n",
      "244/244 [==============================] - 1s 3ms/step - loss: 0.5109 - aucroc: 0.8039 - val_loss: 0.5145 - val_aucroc: 0.8003\n",
      "Epoch 86/100\n",
      "244/244 [==============================] - 1s 3ms/step - loss: 0.5123 - aucroc: 0.8035 - val_loss: 0.5137 - val_aucroc: 0.7989\n",
      "Epoch 87/100\n",
      "244/244 [==============================] - 1s 3ms/step - loss: 0.5122 - aucroc: 0.8030 - val_loss: 0.5122 - val_aucroc: 0.8014\n",
      "Epoch 88/100\n",
      "244/244 [==============================] - 1s 3ms/step - loss: 0.5115 - aucroc: 0.8035 - val_loss: 0.5106 - val_aucroc: 0.8016\n",
      "Epoch 89/100\n",
      "244/244 [==============================] - 1s 3ms/step - loss: 0.5124 - aucroc: 0.8031 - val_loss: 0.5131 - val_aucroc: 0.8009\n",
      "Epoch 90/100\n",
      "244/244 [==============================] - 1s 3ms/step - loss: 0.5105 - aucroc: 0.8048 - val_loss: 0.5188 - val_aucroc: 0.8014\n",
      "Epoch 91/100\n",
      "244/244 [==============================] - 1s 3ms/step - loss: 0.5099 - aucroc: 0.8048 - val_loss: 0.5193 - val_aucroc: 0.8033\n",
      "Epoch 92/100\n",
      "244/244 [==============================] - 1s 3ms/step - loss: 0.5089 - aucroc: 0.8062 - val_loss: 0.5268 - val_aucroc: 0.7991\n",
      "Epoch 93/100\n",
      "244/244 [==============================] - 1s 3ms/step - loss: 0.5115 - aucroc: 0.8038 - val_loss: 0.5186 - val_aucroc: 0.8026\n",
      "Epoch 94/100\n",
      "244/244 [==============================] - 1s 3ms/step - loss: 0.5152 - aucroc: 0.8009 - val_loss: 0.5307 - val_aucroc: 0.8000\n",
      "Epoch 95/100\n",
      "244/244 [==============================] - 1s 3ms/step - loss: 0.5127 - aucroc: 0.8034 - val_loss: 0.5136 - val_aucroc: 0.8018\n",
      "Epoch 96/100\n",
      "244/244 [==============================] - 1s 3ms/step - loss: 0.5131 - aucroc: 0.8018 - val_loss: 0.5115 - val_aucroc: 0.8027\n",
      "Epoch 97/100\n",
      "244/244 [==============================] - 1s 3ms/step - loss: 0.5072 - aucroc: 0.8073 - val_loss: 0.5128 - val_aucroc: 0.8006\n",
      "Epoch 98/100\n",
      "244/244 [==============================] - 1s 3ms/step - loss: 0.5094 - aucroc: 0.8055 - val_loss: 0.5155 - val_aucroc: 0.8033\n",
      "Epoch 99/100\n",
      "244/244 [==============================] - 1s 3ms/step - loss: 0.5134 - aucroc: 0.8017 - val_loss: 0.5228 - val_aucroc: 0.8007\n",
      "Epoch 100/100\n",
      "244/244 [==============================] - 1s 3ms/step - loss: 0.5138 - aucroc: 0.8018 - val_loss: 0.5106 - val_aucroc: 0.8040\n"
     ]
    }
   ],
   "source": [
    "nn_model = Sequential()\n",
    "\n",
    "nn_model.add(Dense(15, input_shape=(X_train.shape[1],), activation='relu'))\n",
    "nn_model.add(Dense(10, activation='relu'))\n",
    "nn_model.add(Dense(1, activation='sigmoid'))\n",
    "\n",
    "nn_model.compile(optimizer='adam', loss='binary_crossentropy', metrics=[tf.keras.metrics.AUC(name='aucroc')])\n",
    "\n",
    "history = nn_model.fit(\n",
    "    X_train, y_train,\n",
    "    epochs=100,\n",
    "    batch_size=128,\n",
    "    validation_data=(X_val, y_val)\n",
    ")"
   ]
  },
  {
   "cell_type": "code",
   "execution_count": 45,
   "id": "21fb9345",
   "metadata": {},
   "outputs": [
    {
     "ename": "NameError",
     "evalue": "name 'nn_model' is not defined",
     "output_type": "error",
     "traceback": [
      "\u001b[1;31m---------------------------------------------------------------------------\u001b[0m",
      "\u001b[1;31mNameError\u001b[0m                                 Traceback (most recent call last)",
      "Cell \u001b[1;32mIn[45], line 1\u001b[0m\n\u001b[1;32m----> 1\u001b[0m y_probs \u001b[38;5;241m=\u001b[39m nn_model\u001b[38;5;241m.\u001b[39mpredict(X_val)\n\u001b[0;32m      2\u001b[0m y_pred \u001b[38;5;241m=\u001b[39m (y_probs \u001b[38;5;241m>\u001b[39m \u001b[38;5;241m0.48\u001b[39m)\u001b[38;5;241m.\u001b[39mastype(\u001b[38;5;28mint\u001b[39m)\n\u001b[0;32m      3\u001b[0m \u001b[38;5;28mprint\u001b[39m(classification_report(y_val, y_pred, zero_division\u001b[38;5;241m=\u001b[39mnp\u001b[38;5;241m.\u001b[39mnan))\n",
      "\u001b[1;31mNameError\u001b[0m: name 'nn_model' is not defined"
     ]
    }
   ],
   "source": [
    "y_probs = nn_model.predict(X_val)\n",
    "y_pred = (y_probs > 0.48).astype(int)\n",
    "print(classification_report(y_val, y_pred, zero_division=np.nan))"
   ]
  },
  {
   "cell_type": "code",
   "execution_count": 42,
   "id": "b785194d",
   "metadata": {},
   "outputs": [
    {
     "data": {
      "image/png": "[encoded data removed]",
      "text/plain": [
       "<Figure size 640x480 with 2 Axes>"
      ]
     },
     "metadata": {},
     "output_type": "display_data"
    }
   ],
   "source": [
    "ConfusionMatrixDisplay.from_predictions(y_val, y_pred, cmap='Blues')\n",
    "plt.show()"
   ]
  },
  {
   "cell_type": "code",
   "execution_count": 43,
   "id": "21e57c97",
   "metadata": {},
   "outputs": [
    {
     "name": "stdout",
     "output_type": "stream",
     "text": [
      "975/975 [==============================] - 2s 2ms/step\n"
     ]
    }
   ],
   "source": [
    "X_train['prob_1_nn'] = nn_model.predict(X_train)\n",
    "X_val['prob_1_nn'] = y_probs"
   ]
  },
  {
   "cell_type": "code",
   "execution_count": 44,
   "id": "9b35740a",
   "metadata": {},
   "outputs": [
    {
     "data": {
      "text/html": [
       "<style>#sk-container-id-1 {color: black;}#sk-container-id-1 pre{padding: 0;}#sk-container-id-1 div.sk-toggleable {background-color: white;}#sk-container-id-1 label.sk-toggleable__label {cursor: pointer;display: block;width: 100%;margin-bottom: 0;padding: 0.3em;box-sizing: border-box;text-align: center;}#sk-container-id-1 label.sk-toggleable__label-arrow:before {content: \"▸\";float: left;margin-right: 0.25em;color: #696969;}#sk-container-id-1 label.sk-toggleable__label-arrow:hover:before {color: black;}#sk-container-id-1 div.sk-estimator:hover label.sk-toggleable__label-arrow:before {color: black;}#sk-container-id-1 div.sk-toggleable__content {max-height: 0;max-width: 0;overflow: hidden;text-align: left;background-color: #f0f8ff;}#sk-container-id-1 div.sk-toggleable__content pre {margin: 0.2em;color: black;border-radius: 0.25em;background-color: #f0f8ff;}#sk-container-id-1 input.sk-toggleable__control:checked~div.sk-toggleable__content {max-height: 200px;max-width: 100%;overflow: auto;}#sk-container-id-1 input.sk-toggleable__control:checked~label.sk-toggleable__label-arrow:before {content: \"▾\";}#sk-container-id-1 div.sk-estimator input.sk-toggleable__control:checked~label.sk-toggleable__label {background-color: #d4ebff;}#sk-container-id-1 div.sk-label input.sk-toggleable__control:checked~label.sk-toggleable__label {background-color: #d4ebff;}#sk-container-id-1 input.sk-hidden--visually {border: 0;clip: rect(1px 1px 1px 1px);clip: rect(1px, 1px, 1px, 1px);height: 1px;margin: -1px;overflow: hidden;padding: 0;position: absolute;width: 1px;}#sk-container-id-1 div.sk-estimator {font-family: monospace;background-color: #f0f8ff;border: 1px dotted black;border-radius: 0.25em;box-sizing: border-box;margin-bottom: 0.5em;}#sk-container-id-1 div.sk-estimator:hover {background-color: #d4ebff;}#sk-container-id-1 div.sk-parallel-item::after {content: \"\";width: 100%;border-bottom: 1px solid gray;flex-grow: 1;}#sk-container-id-1 div.sk-label:hover label.sk-toggleable__label {background-color: #d4ebff;}#sk-container-id-1 div.sk-serial::before {content: \"\";position: absolute;border-left: 1px solid gray;box-sizing: border-box;top: 0;bottom: 0;left: 50%;z-index: 0;}#sk-container-id-1 div.sk-serial {display: flex;flex-direction: column;align-items: center;background-color: white;padding-right: 0.2em;padding-left: 0.2em;position: relative;}#sk-container-id-1 div.sk-item {position: relative;z-index: 1;}#sk-container-id-1 div.sk-parallel {display: flex;align-items: stretch;justify-content: center;background-color: white;position: relative;}#sk-container-id-1 div.sk-item::before, #sk-container-id-1 div.sk-parallel-item::before {content: \"\";position: absolute;border-left: 1px solid gray;box-sizing: border-box;top: 0;bottom: 0;left: 50%;z-index: -1;}#sk-container-id-1 div.sk-parallel-item {display: flex;flex-direction: column;z-index: 1;position: relative;background-color: white;}#sk-container-id-1 div.sk-parallel-item:first-child::after {align-self: flex-end;width: 50%;}#sk-container-id-1 div.sk-parallel-item:last-child::after {align-self: flex-start;width: 50%;}#sk-container-id-1 div.sk-parallel-item:only-child::after {width: 0;}#sk-container-id-1 div.sk-dashed-wrapped {border: 1px dashed gray;margin: 0 0.4em 0.5em 0.4em;box-sizing: border-box;padding-bottom: 0.4em;background-color: white;}#sk-container-id-1 div.sk-label label {font-family: monospace;font-weight: bold;display: inline-block;line-height: 1.2em;}#sk-container-id-1 div.sk-label-container {text-align: center;}#sk-container-id-1 div.sk-container {/* jupyter's `normalize.less` sets `[hidden] { display: none; }` but bootstrap.min.css set `[hidden] { display: none !important; }` so we also need the `!important` here to be able to override the default hidden behavior on the sphinx rendered scikit-learn.org. See: https://github.com/scikit-learn/scikit-learn/issues/21755 */display: inline-block !important;position: relative;}#sk-container-id-1 div.sk-text-repr-fallback {display: none;}</style><div id=\"sk-container-id-1\" class=\"sk-top-container\"><div class=\"sk-text-repr-fallback\"><pre>XGBClassifier(base_score=None, booster=None, callbacks=None,\n",
       "              colsample_bylevel=None, colsample_bynode=None,\n",
       "              colsample_bytree=None, device=None, early_stopping_rounds=None,\n",
       "              enable_categorical=False, eval_metric=None, feature_types=None,\n",
       "              gamma=None, grow_policy=None, importance_type=None,\n",
       "              interaction_constraints=None, learning_rate=None, max_bin=None,\n",
       "              max_cat_threshold=None, max_cat_to_onehot=None,\n",
       "              max_delta_step=None, max_depth=None, max_leaves=None,\n",
       "              min_child_weight=None, missing=nan, monotone_constraints=None,\n",
       "              multi_strategy=None, n_estimators=None, n_jobs=None,\n",
       "              num_parallel_tree=None, random_state=None, ...)</pre><b>In a Jupyter environment, please rerun this cell to show the HTML representation or trust the notebook. <br />On GitHub, the HTML representation is unable to render, please try loading this page with nbviewer.org.</b></div><div class=\"sk-container\" hidden><div class=\"sk-item\"><div class=\"sk-estimator sk-toggleable\"><input class=\"sk-toggleable__control sk-hidden--visually\" id=\"sk-estimator-id-1\" type=\"checkbox\" checked><label for=\"sk-estimator-id-1\" class=\"sk-toggleable__label sk-toggleable__label-arrow\">XGBClassifier</label><div class=\"sk-toggleable__content\"><pre>XGBClassifier(base_score=None, booster=None, callbacks=None,\n",
       "              colsample_bylevel=None, colsample_bynode=None,\n",
       "              colsample_bytree=None, device=None, early_stopping_rounds=None,\n",
       "              enable_categorical=False, eval_metric=None, feature_types=None,\n",
       "              gamma=None, grow_policy=None, importance_type=None,\n",
       "              interaction_constraints=None, learning_rate=None, max_bin=None,\n",
       "              max_cat_threshold=None, max_cat_to_onehot=None,\n",
       "              max_delta_step=None, max_depth=None, max_leaves=None,\n",
       "              min_child_weight=None, missing=nan, monotone_constraints=None,\n",
       "              multi_strategy=None, n_estimators=None, n_jobs=None,\n",
       "              num_parallel_tree=None, random_state=None, ...)</pre></div></div></div></div></div>"
      ],
      "text/plain": [
       "XGBClassifier(base_score=None, booster=None, callbacks=None,\n",
       "              colsample_bylevel=None, colsample_bynode=None,\n",
       "              colsample_bytree=None, device=None, early_stopping_rounds=None,\n",
       "              enable_categorical=False, eval_metric=None, feature_types=None,\n",
       "              gamma=None, grow_policy=None, importance_type=None,\n",
       "              interaction_constraints=None, learning_rate=None, max_bin=None,\n",
       "              max_cat_threshold=None, max_cat_to_onehot=None,\n",
       "              max_delta_step=None, max_depth=None, max_leaves=None,\n",
       "              min_child_weight=None, missing=nan, monotone_constraints=None,\n",
       "              multi_strategy=None, n_estimators=None, n_jobs=None,\n",
       "              num_parallel_tree=None, random_state=None, ...)"
      ]
     },
     "execution_count": 44,
     "metadata": {},
     "output_type": "execute_result"
    }
   ],
   "source": [
    "xgb_model = xgb.XGBClassifier()\n",
    "xgb_model.fit(X_train, y_train)"
   ]
  },
  {
   "cell_type": "code",
   "execution_count": 46,
   "id": "6fc4b90f",
   "metadata": {},
   "outputs": [
    {
     "name": "stdout",
     "output_type": "stream",
     "text": [
      "              precision    recall  f1-score   support\n",
      "\n",
      "           0       0.82      0.80      0.81      4975\n",
      "           1       0.66      0.68      0.67      2822\n",
      "\n",
      "    accuracy                           0.76      7797\n",
      "   macro avg       0.74      0.74      0.74      7797\n",
      "weighted avg       0.76      0.76      0.76      7797\n",
      "\n"
     ]
    }
   ],
   "source": [
    "y_pred = xgb_model.predict(X_val)\n",
    "print(classification_report(y_val, y_pred, zero_division=np.nan))"
   ]
  },
  {
   "cell_type": "code",
   "execution_count": 47,
   "id": "304d4bc7",
   "metadata": {},
   "outputs": [
    {
     "data": {
      "image/png": "[encoded data removed]",
      "text/plain": [
       "<Figure size 640x480 with 2 Axes>"
      ]
     },
     "metadata": {},
     "output_type": "display_data"
    }
   ],
   "source": [
    "ConfusionMatrixDisplay.from_predictions(y_val, y_pred, cmap='Blues')\n",
    "plt.show()"
   ]
  },
  {
   "cell_type": "markdown",
   "id": "440b1760",
   "metadata": {},
   "source": [
    "Neural Network\n",
    "- learning rate: 10 ^ uniform(-3.3, -1)\n",
    "- epochs: randint(7, 20)\n",
    "- batch size: choice(32, 64, 128, 256)\n",
    "- nodos capa 1: randint(7,22) \n",
    "- nodos capa 2: randint(3,17) \n",
    "- activacion capa 1: choice(relu, sigmoid, leaky_relu, tanh) 50% relu\n",
    "- activacion capa 2: choice(relu, sigmoid, leaky_relu, tanh) 50% relu\n",
    "- regularizacion capa 1: choice(0.1, 0.01, 0.001, 0.0001, 0)\n",
    "- regularizacion capa 2: choice(0.1, 0.01, 0.001, 0.0001, 0)\n",
    "- classes weights: choice(si, no)\n",
    "\n",
    "XGBoost\n",
    "- learning rate: uniform(0.01, 0.3)\n",
    "- max bins: uniform(70, 200)\n",
    "- min instances: uniform(20, 1000)\n",
    "- max depth: randint(7, 20)\n",
    "- num trees: (15, 150)\n",
    "- scale pos weight: choice(1, 1.2, 1.5, 1.72)"
   ]
  },
  {
   "cell_type": "code",
   "execution_count": 70,
   "id": "079d53cc",
   "metadata": {},
   "outputs": [
    {
     "data": {
      "image/png": "[encoded data removed]",
      "text/plain": [
       "<Figure size 640x480 with 1 Axes>"
      ]
     },
     "metadata": {},
     "output_type": "display_data"
    },
    {
     "data": {
      "image/png": "[encoded data removed]",
      "text/plain": [
       "<Figure size 640x480 with 1 Axes>"
      ]
     },
     "metadata": {},
     "output_type": "display_data"
    }
   ],
   "source": [
    "plt.imshow([[1, 0, 0.5, 0.8], [0.1, 0.8, 0.7, 0], [0.3, 0.1, 0.5, 0.6], [1, 0, 0.2, 0.8]], cmap='Blues')\n",
    "plt.show()\n",
    "plt.imshow([[1, 0.5, 0.7, 0.8], [0.4, 0.8, 0.7, 0.3], [0.3, 0.5, 0.5, 0.7], [1, 0.5, 0.6, 0.8]], cmap='Blues')\n",
    "plt.show()"
   ]
  }
 ],
 "metadata": {
  "kernelspec": {
   "display_name": "Python 3 (ipykernel)",
   "language": "python",
   "name": "python3"
  },
  "language_info": {
   "codemirror_mode": {
    "name": "ipython",
    "version": 3
   },
   "file_extension": ".py",
   "mimetype": "text/x-python",
   "name": "python",
   "nbconvert_exporter": "python",
   "pygments_lexer": "ipython3",
   "version": "3.11.4"
  }
 },
 "nbformat": 4,
 "nbformat_minor": 5
}
